{
 "cells": [
  {
   "cell_type": "markdown",
   "id": "bf17eebd",
   "metadata": {},
   "source": [
    "<div align=\"right\" style=\" font-size: 80%; text-align: center; margin: 0 auto\">\n",
    "<img src=\"https://raw.githubusercontent.com/Explore-AI/Pictures/master/ExploreAI_logos/Logo blue_dark.png\"  style=\"width:25px\" align=\"right\";/>\n",
    "</div>"
   ]
  },
  {
   "cell_type": "markdown",
   "id": "f662d169",
   "metadata": {},
   "source": [
    "# SQL Exam\n",
    "© ExploreAI Academy"
   ]
  },
  {
   "cell_type": "markdown",
   "id": "26af890c",
   "metadata": {},
   "source": [
    "## Instructions to students\n",
    "\n",
    "This challenge is designed to determine how much you have learned so far and will test your knowledge on SQL.\n",
    "\n",
    "The answers for this challenge should be selected on Athena for each corresponding multiple-choice question. The questions are included in this notebook and are numbered according to the Athena questions. The options for each question have also been included.\n",
    "\n",
    "Do not add or remove cells in this notebook. Do not edit or remove the `%%sql` comment as it is required to run each cell.\n",
    "\n",
    "**_Good luck!_**"
   ]
  },
  {
   "cell_type": "code",
   "execution_count": 1,
   "id": "71a7172c",
   "metadata": {},
   "outputs": [
    {
     "name": "stdout",
     "output_type": "stream",
     "text": [
      "Requirement already satisfied: ipython-sql in c:\\users\\user\\anaconda3\\lib\\site-packages (0.5.0)\n",
      "Requirement already satisfied: six in c:\\users\\user\\anaconda3\\lib\\site-packages (from ipython-sql) (1.16.0)\n",
      "Requirement already satisfied: prettytable in c:\\users\\user\\anaconda3\\lib\\site-packages (from ipython-sql) (3.9.0)\n",
      "Requirement already satisfied: ipython-genutils in c:\\users\\user\\anaconda3\\lib\\site-packages (from ipython-sql) (0.2.0)\n",
      "Requirement already satisfied: sqlalchemy>=2.0 in c:\\users\\user\\anaconda3\\lib\\site-packages (from ipython-sql) (2.0.0)\n",
      "Requirement already satisfied: sqlparse in c:\\users\\user\\anaconda3\\lib\\site-packages (from ipython-sql) (0.4.4)\n",
      "Requirement already satisfied: ipython in c:\\users\\user\\anaconda3\\lib\\site-packages (from ipython-sql) (7.31.1)\n",
      "Requirement already satisfied: typing-extensions>=4.2.0 in c:\\users\\user\\anaconda3\\lib\\site-packages (from sqlalchemy>=2.0->ipython-sql) (4.3.0)\n",
      "Requirement already satisfied: greenlet!=0.4.17 in c:\\users\\user\\anaconda3\\lib\\site-packages (from sqlalchemy>=2.0->ipython-sql) (1.1.1)\n",
      "Requirement already satisfied: matplotlib-inline in c:\\users\\user\\anaconda3\\lib\\site-packages (from ipython->ipython-sql) (0.1.6)\n",
      "Requirement already satisfied: pygments in c:\\users\\user\\anaconda3\\lib\\site-packages (from ipython->ipython-sql) (2.11.2)\n",
      "Requirement already satisfied: jedi>=0.16 in c:\\users\\user\\anaconda3\\lib\\site-packages (from ipython->ipython-sql) (0.18.1)\n",
      "Requirement already satisfied: setuptools>=18.5 in c:\\users\\user\\anaconda3\\lib\\site-packages (from ipython->ipython-sql) (63.4.1)\n",
      "Requirement already satisfied: traitlets>=4.2 in c:\\users\\user\\anaconda3\\lib\\site-packages (from ipython->ipython-sql) (5.1.1)\n",
      "Requirement already satisfied: pickleshare in c:\\users\\user\\anaconda3\\lib\\site-packages (from ipython->ipython-sql) (0.7.5)\n",
      "Requirement already satisfied: colorama in c:\\users\\user\\anaconda3\\lib\\site-packages (from ipython->ipython-sql) (0.4.5)\n",
      "Requirement already satisfied: prompt-toolkit!=3.0.0,!=3.0.1,<3.1.0,>=2.0.0 in c:\\users\\user\\anaconda3\\lib\\site-packages (from ipython->ipython-sql) (3.0.20)\n",
      "Requirement already satisfied: backcall in c:\\users\\user\\anaconda3\\lib\\site-packages (from ipython->ipython-sql) (0.2.0)\n",
      "Requirement already satisfied: decorator in c:\\users\\user\\anaconda3\\lib\\site-packages (from ipython->ipython-sql) (5.1.1)\n",
      "Requirement already satisfied: wcwidth in c:\\users\\user\\anaconda3\\lib\\site-packages (from prettytable->ipython-sql) (0.2.5)\n",
      "Requirement already satisfied: parso<0.9.0,>=0.8.0 in c:\\users\\user\\anaconda3\\lib\\site-packages (from jedi>=0.16->ipython->ipython-sql) (0.8.3)\n",
      "Requirement already satisfied: sqlAlchemy==2.0 in c:\\users\\user\\anaconda3\\lib\\site-packages (2.0.0)\n",
      "Requirement already satisfied: typing-extensions>=4.2.0 in c:\\users\\user\\anaconda3\\lib\\site-packages (from sqlAlchemy==2.0) (4.3.0)\n",
      "Requirement already satisfied: greenlet!=0.4.17 in c:\\users\\user\\anaconda3\\lib\\site-packages (from sqlAlchemy==2.0) (1.1.1)\n"
     ]
    }
   ],
   "source": [
    "!pip install ipython-sql\n",
    "!pip install sqlAlchemy==2.0"
   ]
  },
  {
   "cell_type": "markdown",
   "id": "092d3f5e",
   "metadata": {},
   "source": [
    "## Honour code\n",
    "\n",
    "I, ANNETE BOSIBORI, confirm – by submitting this document – that the solutions in this notebook are a result of my own work and that I abide by the EDSA honour code (https://drive.google.com/file/d/1QDCjGZJ8-FmJE3bZdIQNwnJyQKPhHZBn/view?usp=sharing).\n",
    "\n",
    "Non-compliance with the honour code constitutes a material breach of contract."
   ]
  },
  {
   "cell_type": "markdown",
   "id": "b6bdd20c",
   "metadata": {},
   "source": [
    "## The TMDb database\n",
    "\n",
    "In this supplementary exam, you will be exploring [The Movie Database](https://www.themoviedb.org/) – an online movie and TV show database that houses some of the most popular movies and TV shows at your fingertips. The TMDb database supports 39 official languages used in over 180 countries daily and dates back all the way to 2008. \n",
    "\n",
    "\n",
    "<img src=\"https://github.com/Explore-AI/Pictures/blob/master/sql_tmdb.jpg?raw=true\" width=80%/>\n",
    "\n",
    "\n",
    "Below is an Entity Relationship Diagram (ERD) of the TMDb database:\n",
    "\n",
    "<img src=\"https://github.com/Explore-AI/Pictures/blob/master/TMDB_ER_diagram.png?raw=true\" width=70%/>\n",
    "\n",
    "As can be seen from the ERD, the TMDb database consists of `12 tables` containing information about movies, cast, genre, and so much more.  \n",
    "\n",
    "Let's get started!"
   ]
  },
  {
   "cell_type": "markdown",
   "id": "5a0b7683",
   "metadata": {
    "tags": []
   },
   "source": [
    "## Loading the database\n",
    "\n",
    "Before you begin, you need to prepare your SQL environment.  You can do this by loading the magic command `%load_ext sql`."
   ]
  },
  {
   "cell_type": "code",
   "execution_count": 2,
   "id": "0f34ea72",
   "metadata": {},
   "outputs": [],
   "source": [
    "# Load and activate the SQL extension to allow us to execute SQL in a Jupyter notebook. \n",
    "# If you get an error here, make sure that mysql and pymysql are installed correctly. \n",
    "\n",
    "%load_ext sql"
   ]
  },
  {
   "cell_type": "markdown",
   "id": "3f78b691",
   "metadata": {},
   "source": [
    "Next, go ahead and load your database. To do this, you will need to ensure you have downloaded the `TMDB.db` sqlite file from Athena and have stored it in a known location."
   ]
  },
  {
   "cell_type": "code",
   "execution_count": 3,
   "id": "d279a04d",
   "metadata": {},
   "outputs": [],
   "source": [
    "# Establish a connection to the local database using the '%sql' magic command.\n",
    "# Replace 'password' with our connection password and `db_name` with our database name. \n",
    "# If you get an error here, please make sure the database name or password is correct.\n",
    "\n",
    "%sql sqlite:///TMDB-a-4006.db"
   ]
  },
  {
   "cell_type": "code",
   "execution_count": 7,
   "id": "048ca093",
   "metadata": {},
   "outputs": [
    {
     "name": "stdout",
     "output_type": "stream",
     "text": [
      " * sqlite:///TMDB-a-4006.db\n",
      "Done.\n"
     ]
    },
    {
     "data": {
      "text/html": [
       "<table>\n",
       "    <thead>\n",
       "        <tr>\n",
       "            <th>name</th>\n",
       "        </tr>\n",
       "    </thead>\n",
       "    <tbody>\n",
       "        <tr>\n",
       "            <td>actors</td>\n",
       "        </tr>\n",
       "        <tr>\n",
       "            <td>casts</td>\n",
       "        </tr>\n",
       "        <tr>\n",
       "            <td>genremap</td>\n",
       "        </tr>\n",
       "        <tr>\n",
       "            <td>genres</td>\n",
       "        </tr>\n",
       "        <tr>\n",
       "            <td>keywordmap</td>\n",
       "        </tr>\n",
       "        <tr>\n",
       "            <td>keywords</td>\n",
       "        </tr>\n",
       "        <tr>\n",
       "            <td>languagemap</td>\n",
       "        </tr>\n",
       "        <tr>\n",
       "            <td>languages</td>\n",
       "        </tr>\n",
       "        <tr>\n",
       "            <td>movies</td>\n",
       "        </tr>\n",
       "        <tr>\n",
       "            <td>oscars</td>\n",
       "        </tr>\n",
       "        <tr>\n",
       "            <td>productioncompanies</td>\n",
       "        </tr>\n",
       "        <tr>\n",
       "            <td>productioncompanymap</td>\n",
       "        </tr>\n",
       "        <tr>\n",
       "            <td>productioncountries</td>\n",
       "        </tr>\n",
       "        <tr>\n",
       "            <td>productioncountrymap</td>\n",
       "        </tr>\n",
       "        <tr>\n",
       "            <td>sysdiagrams</td>\n",
       "        </tr>\n",
       "    </tbody>\n",
       "</table>"
      ],
      "text/plain": [
       "[('actors',),\n",
       " ('casts',),\n",
       " ('genremap',),\n",
       " ('genres',),\n",
       " ('keywordmap',),\n",
       " ('keywords',),\n",
       " ('languagemap',),\n",
       " ('languages',),\n",
       " ('movies',),\n",
       " ('oscars',),\n",
       " ('productioncompanies',),\n",
       " ('productioncompanymap',),\n",
       " ('productioncountries',),\n",
       " ('productioncountrymap',),\n",
       " ('sysdiagrams',)]"
      ]
     },
     "execution_count": 7,
     "metadata": {},
     "output_type": "execute_result"
    }
   ],
   "source": [
    "%sql SELECT name FROM sqlite_master WHERE type='table';\n"
   ]
  },
  {
   "cell_type": "markdown",
   "id": "6f8bbc0b-c31c-4274-ad13-399a9182a260",
   "metadata": {},
   "source": [
    "If the above line didn't throw out any errors, then you should be good to go. Good luck with the exam! "
   ]
  },
  {
   "cell_type": "code",
   "execution_count": 14,
   "id": "7aade0c3",
   "metadata": {
    "scrolled": true
   },
   "outputs": [
    {
     "name": "stdout",
     "output_type": "stream",
     "text": [
      " * sqlite:///TMDB-a-4006.db\n",
      "Done.\n"
     ]
    },
    {
     "data": {
      "text/html": [
       "<table>\n",
       "    <thead>\n",
       "        <tr>\n",
       "            <th>movie_id</th>\n",
       "            <th>actor_id</th>\n",
       "            <th>characters</th>\n",
       "        </tr>\n",
       "    </thead>\n",
       "    <tbody>\n",
       "        <tr>\n",
       "            <td>5</td>\n",
       "            <td>62</td>\n",
       "            <td>Leo</td>\n",
       "        </tr>\n",
       "        <tr>\n",
       "            <td>5</td>\n",
       "            <td>138</td>\n",
       "            <td>Chester Rush</td>\n",
       "        </tr>\n",
       "        <tr>\n",
       "            <td>5</td>\n",
       "            <td>2545</td>\n",
       "            <td>Long Hair Yuppy Scum</td>\n",
       "        </tr>\n",
       "        <tr>\n",
       "            <td>5</td>\n",
       "            <td>2555</td>\n",
       "            <td>Siegfried</td>\n",
       "        </tr>\n",
       "        <tr>\n",
       "            <td>5</td>\n",
       "            <td>3122</td>\n",
       "            <td>Jezebel</td>\n",
       "        </tr>\n",
       "        <tr>\n",
       "            <td>5</td>\n",
       "            <td>3123</td>\n",
       "            <td>Diana</td>\n",
       "        </tr>\n",
       "        <tr>\n",
       "            <td>5</td>\n",
       "            <td>3124</td>\n",
       "            <td>Athena</td>\n",
       "        </tr>\n",
       "        <tr>\n",
       "            <td>5</td>\n",
       "            <td>3125</td>\n",
       "            <td>Elspeth</td>\n",
       "        </tr>\n",
       "        <tr>\n",
       "            <td>5</td>\n",
       "            <td>3126</td>\n",
       "            <td>Eva</td>\n",
       "        </tr>\n",
       "        <tr>\n",
       "            <td>5</td>\n",
       "            <td>3127</td>\n",
       "            <td>Raven</td>\n",
       "        </tr>\n",
       "    </tbody>\n",
       "</table>"
      ],
      "text/plain": [
       "[(5, 62, 'Leo'),\n",
       " (5, 138, 'Chester Rush'),\n",
       " (5, 2545, 'Long Hair Yuppy Scum'),\n",
       " (5, 2555, 'Siegfried'),\n",
       " (5, 3122, 'Jezebel'),\n",
       " (5, 3123, 'Diana'),\n",
       " (5, 3124, 'Athena'),\n",
       " (5, 3125, 'Elspeth'),\n",
       " (5, 3126, 'Eva'),\n",
       " (5, 3127, 'Raven')]"
      ]
     },
     "execution_count": 14,
     "metadata": {},
     "output_type": "execute_result"
    }
   ],
   "source": [
    "%%sql \n",
    "SELECT*\n",
    "FROM casts\n",
    "LIMIT 10;"
   ]
  },
  {
   "cell_type": "markdown",
   "id": "f5ed5285",
   "metadata": {},
   "source": [
    "## Questions on SQL\n",
    "\n",
    "Use the given cell below each question to execute your SQL queries to find the correct input from the options provided. Your solution should match one of the multiple-choice questions on Athena."
   ]
  },
  {
   "cell_type": "markdown",
   "id": "86802726",
   "metadata": {},
   "source": [
    "### Question 1\n",
    "\n",
    "Who won the Oscar for “Actor in a Leading Role” in  2015?\n",
    "\n",
    "(Hint: The winner is indicated as '1.0'.)\n",
    "\n",
    "**Options:** \n",
    "\n",
    "  - Micheal Fassbender\n",
    "  - Natalie Portman\n",
    "  - Leonardo DiCaprio\n",
    "  - Eddie Redmayne\n"
   ]
  },
  {
   "cell_type": "code",
   "execution_count": 40,
   "id": "91f3421f",
   "metadata": {},
   "outputs": [
    {
     "name": "stdout",
     "output_type": "stream",
     "text": [
      " * sqlite:///TMDB-a-4006.db\n",
      "Done.\n"
     ]
    },
    {
     "data": {
      "text/html": [
       "<table>\n",
       "    <thead>\n",
       "        <tr>\n",
       "            <th>year</th>\n",
       "            <th>award</th>\n",
       "            <th>winner</th>\n",
       "            <th>name</th>\n",
       "            <th>film</th>\n",
       "        </tr>\n",
       "    </thead>\n",
       "    <tbody>\n",
       "        <tr>\n",
       "            <td>2015</td>\n",
       "            <td>Actor in a Leading Role</td>\n",
       "            <td>1.0</td>\n",
       "            <td>Leonardo DiCaprio</td>\n",
       "            <td>The Revenant</td>\n",
       "        </tr>\n",
       "    </tbody>\n",
       "</table>"
      ],
      "text/plain": [
       "[('2015', 'Actor in a Leading Role', '1.0', 'Leonardo DiCaprio', 'The Revenant')]"
      ]
     },
     "execution_count": 40,
     "metadata": {},
     "output_type": "execute_result"
    }
   ],
   "source": [
    "#Leornardo Dicaprio\n",
    "%%sql\n",
    "SELECT*\n",
    "FROM oscars\n",
    "WHERE year = 2015\n",
    "AND award = 'Actor in a Leading Role'\n",
    "AND winner = 1.0;\n"
   ]
  },
  {
   "cell_type": "markdown",
   "id": "9545206c",
   "metadata": {},
   "source": [
    "### Question 2\n",
    "\n",
    "What query will produce the ten oldest movies in the database?\n",
    "\n",
    "**Options:**\n",
    "\n",
    " - SELECT TOP(10) * FROM movies WHERE release_date ORDER BY release_date ASC\n",
    "\n",
    " - SELECT  * FROM movies WHERE release_date IS NOT NULL ORDER BY release_date ASC LIMIT 10\n",
    "\n",
    " - SELECT * FROM movies WHERE release_date IS NOT NULL ORDER BY release_date DESC LIMIT 10\n",
    "\n",
    " -  SELECT * FROM movies WHERE release_date IS NULL ORDER BY release_date DESC LIMIT 10"
   ]
  },
  {
   "cell_type": "code",
   "execution_count": 47,
   "id": "748f4263",
   "metadata": {},
   "outputs": [
    {
     "name": "stdout",
     "output_type": "stream",
     "text": [
      " * sqlite:///TMDB-a-4006.db\n",
      "Done.\n"
     ]
    },
    {
     "data": {
      "text/html": [
       "<table>\n",
       "    <thead>\n",
       "        <tr>\n",
       "            <th>movie_id</th>\n",
       "            <th>title</th>\n",
       "            <th>release_date</th>\n",
       "            <th>budget</th>\n",
       "            <th>homepage</th>\n",
       "            <th>original_language</th>\n",
       "            <th>original_title</th>\n",
       "            <th>overview</th>\n",
       "            <th>popularity</th>\n",
       "            <th>revenue</th>\n",
       "            <th>runtime</th>\n",
       "            <th>release_status</th>\n",
       "            <th>tagline</th>\n",
       "            <th>vote_average</th>\n",
       "            <th>vote_count</th>\n",
       "        </tr>\n",
       "    </thead>\n",
       "    <tbody>\n",
       "        <tr>\n",
       "            <td>426469</td>\n",
       "            <td>Growing Up Smith</td>\n",
       "            <td>2017-02-03 00:00:00.000000</td>\n",
       "            <td>0</td>\n",
       "            <td>http://www.growingupsmithmovie.com</td>\n",
       "            <td>en</td>\n",
       "            <td>Growing Up Smith</td>\n",
       "            <td>&quot;In 1979, an Indian family moves to America with hopes of living the American Dream. While their 10-year-old boy Smith falls head-over-heels for the girl next door, his desire to become a &quot;&quot;good old boy&quot;&quot; propels him further away from his family&#x27;s ideals than ever before.&quot;</td>\n",
       "            <td>0.71087</td>\n",
       "            <td>0.0</td>\n",
       "            <td>102.0</td>\n",
       "            <td>Released</td>\n",
       "            <td>ItÆs better to stand out than to fit in.</td>\n",
       "            <td>7.4</td>\n",
       "            <td>7</td>\n",
       "        </tr>\n",
       "        <tr>\n",
       "            <td>325373</td>\n",
       "            <td>Two Lovers and a Bear</td>\n",
       "            <td>2016-10-02 00:00:00.000000</td>\n",
       "            <td>0</td>\n",
       "            <td>None</td>\n",
       "            <td>en</td>\n",
       "            <td>Two Lovers and a Bear</td>\n",
       "            <td>Set in a small town near the North Pole where roads lead to nowhere, the story follows Roman and Lucy, two burning souls who come together to make a leap for life and inner peace.</td>\n",
       "            <td>3.139294</td>\n",
       "            <td>0.0</td>\n",
       "            <td>96.0</td>\n",
       "            <td>Released</td>\n",
       "            <td>None</td>\n",
       "            <td>6.8</td>\n",
       "            <td>27</td>\n",
       "        </tr>\n",
       "        <tr>\n",
       "            <td>374461</td>\n",
       "            <td>Mr. Church</td>\n",
       "            <td>2016-09-16 00:00:00.000000</td>\n",
       "            <td>8000000</td>\n",
       "            <td>None</td>\n",
       "            <td>en</td>\n",
       "            <td>Mr. Church</td>\n",
       "            <td>A unique friendship develops when a little girl and her dying mother inherit a cook - Mr. Church. What begins as an arrangement that should only last six months, instead spans fifteen years.</td>\n",
       "            <td>7.828459</td>\n",
       "            <td>0.0</td>\n",
       "            <td>104.0</td>\n",
       "            <td>Released</td>\n",
       "            <td>He was the one person she could always count on.</td>\n",
       "            <td>7.0</td>\n",
       "            <td>129</td>\n",
       "        </tr>\n",
       "        <tr>\n",
       "            <td>339408</td>\n",
       "            <td>The Birth of a Nation</td>\n",
       "            <td>2016-09-09 00:00:00.000000</td>\n",
       "            <td>8500000</td>\n",
       "            <td>http://www.foxsearchlight.com/thebirthofanation/</td>\n",
       "            <td>en</td>\n",
       "            <td>The Birth of a Nation</td>\n",
       "            <td>Nat Turner, a former slave in America, leads a liberation movement in 1831 to free African-Americans in Virgina that results in a violent retaliation from whites.</td>\n",
       "            <td>9.452808</td>\n",
       "            <td>15861566.0</td>\n",
       "            <td>120.0</td>\n",
       "            <td>Released</td>\n",
       "            <td>The Untold Story of Nat Turner</td>\n",
       "            <td>6.5</td>\n",
       "            <td>178</td>\n",
       "        </tr>\n",
       "        <tr>\n",
       "            <td>385736</td>\n",
       "            <td>Kicks</td>\n",
       "            <td>2016-09-09 00:00:00.000000</td>\n",
       "            <td>0</td>\n",
       "            <td>http://www.focusfeatures.com/kicks</td>\n",
       "            <td>en</td>\n",
       "            <td>Kicks</td>\n",
       "            <td>When his hard-earned kicks get snatched by a local hood, fifteen-year old Brandon and his two best friends go on an ill-advised mission across the Bay Area to retrieve the stolen sneakers.</td>\n",
       "            <td>3.467923</td>\n",
       "            <td>0.0</td>\n",
       "            <td>80.0</td>\n",
       "            <td>Released</td>\n",
       "            <td>They aren&#x27;t just shoes</td>\n",
       "            <td>7.5</td>\n",
       "            <td>18</td>\n",
       "        </tr>\n",
       "        <tr>\n",
       "            <td>332285</td>\n",
       "            <td>Antibirth</td>\n",
       "            <td>2016-09-02 00:00:00.000000</td>\n",
       "            <td>35000000</td>\n",
       "            <td>None</td>\n",
       "            <td>en</td>\n",
       "            <td>Antibirth</td>\n",
       "            <td>In a desolate community full of drug-addled Marines and rumors of kidnapping, a wild-eyed stoner named Lou wakes up after a crazy night of partying with symptoms of a strange illness and recurring visions. As she struggles to get a grip on reality, the stories of conspiracy spread.</td>\n",
       "            <td>3.674294</td>\n",
       "            <td>0.0</td>\n",
       "            <td>94.0</td>\n",
       "            <td>Released</td>\n",
       "            <td>None</td>\n",
       "            <td>4.8</td>\n",
       "            <td>40</td>\n",
       "        </tr>\n",
       "        <tr>\n",
       "            <td>184341</td>\n",
       "            <td>Hands of Stone</td>\n",
       "            <td>2016-08-26 00:00:00.000000</td>\n",
       "            <td>20000000</td>\n",
       "            <td>None</td>\n",
       "            <td>en</td>\n",
       "            <td>Hands of Stone</td>\n",
       "            <td>The legendary Roberto Duran and his equally legendary trainer Ray Arcel change each other&#x27;s lives.</td>\n",
       "            <td>7.444189</td>\n",
       "            <td>0.0</td>\n",
       "            <td>105.0</td>\n",
       "            <td>Released</td>\n",
       "            <td>No mßs. No surrender.</td>\n",
       "            <td>6.1</td>\n",
       "            <td>109</td>\n",
       "        </tr>\n",
       "        <tr>\n",
       "            <td>271969</td>\n",
       "            <td>Ben-Hur</td>\n",
       "            <td>2016-08-17 00:00:00.000000</td>\n",
       "            <td>100000000</td>\n",
       "            <td>http://www.benhurmovie.com/</td>\n",
       "            <td>en</td>\n",
       "            <td>Ben-Hur</td>\n",
       "            <td>A falsely accused nobleman survives years of slavery to take vengeance on his best friend who betrayed him.</td>\n",
       "            <td>29.608322</td>\n",
       "            <td>94061311.0</td>\n",
       "            <td>125.0</td>\n",
       "            <td>Released</td>\n",
       "            <td>First to finish. Last to die.</td>\n",
       "            <td>5.3</td>\n",
       "            <td>621</td>\n",
       "        </tr>\n",
       "        <tr>\n",
       "            <td>294272</td>\n",
       "            <td>Pete&#x27;s Dragon</td>\n",
       "            <td>2016-08-10 00:00:00.000000</td>\n",
       "            <td>65000000</td>\n",
       "            <td>http://movies.disney.com/petes-dragon-2016</td>\n",
       "            <td>en</td>\n",
       "            <td>Pete&#x27;s Dragon</td>\n",
       "            <td>Pete is a mysterious 10-year-old with no family and no home who claims to live in the woods with a giant, green dragon named Elliott. With the help of Natalie, an 11-year-old girl whose father Jack owns the local lumber mill, forest ranger Grace sets out to determine where Pete came from, where he belongs, and the truth about this dragon.</td>\n",
       "            <td>31.974359</td>\n",
       "            <td>143695338.0</td>\n",
       "            <td>102.0</td>\n",
       "            <td>Released</td>\n",
       "            <td>Some secrets are too big to keep.</td>\n",
       "            <td>6.2</td>\n",
       "            <td>679</td>\n",
       "        </tr>\n",
       "        <tr>\n",
       "            <td>297761</td>\n",
       "            <td>Suicide Squad</td>\n",
       "            <td>2016-08-02 00:00:00.000000</td>\n",
       "            <td>175000000</td>\n",
       "            <td>http://www.suicidesquad.com/</td>\n",
       "            <td>en</td>\n",
       "            <td>Suicide Squad</td>\n",
       "            <td>From DC Comics comes the Suicide Squad, an antihero team of incarcerated supervillains who act as deniable assets for the United States government, undertaking high-risk black ops missions in exchange for commuted prison sentences.</td>\n",
       "            <td>90.23792</td>\n",
       "            <td>745000000.0</td>\n",
       "            <td>123.0</td>\n",
       "            <td>Released</td>\n",
       "            <td>Worst Heroes Ever</td>\n",
       "            <td>5.9</td>\n",
       "            <td>7458</td>\n",
       "        </tr>\n",
       "    </tbody>\n",
       "</table>"
      ],
      "text/plain": [
       "[(426469, 'Growing Up Smith', '2017-02-03 00:00:00.000000', 0, 'http://www.growingupsmithmovie.com', 'en', 'Growing Up Smith', '\"In 1979, an Indian family moves to America with hopes of living the American Dream. While their 10-year-old boy Smith falls head-over-heels for the girl next door, his desire to become a \"\"good old boy\"\" propels him further away from his family\\'s ideals than ever before.\"', 0.71087, 0.0, 102.0, 'Released', 'ItÆs better to stand out than to fit in.', 7.4, 7),\n",
       " (325373, 'Two Lovers and a Bear', '2016-10-02 00:00:00.000000', 0, None, 'en', 'Two Lovers and a Bear', 'Set in a small town near the North Pole where roads lead to nowhere, the story follows Roman and Lucy, two burning souls who come together to make a leap for life and inner peace.', 3.139294, 0.0, 96.0, 'Released', None, 6.8, 27),\n",
       " (374461, 'Mr. Church', '2016-09-16 00:00:00.000000', 8000000, None, 'en', 'Mr. Church', 'A unique friendship develops when a little girl and her dying mother inherit a cook - Mr. Church. What begins as an arrangement that should only last six months, instead spans fifteen years.', 7.828459, 0.0, 104.0, 'Released', 'He was the one person she could always count on.', 7.0, 129),\n",
       " (339408, 'The Birth of a Nation', '2016-09-09 00:00:00.000000', 8500000, 'http://www.foxsearchlight.com/thebirthofanation/', 'en', 'The Birth of a Nation', 'Nat Turner, a former slave in America, leads a liberation movement in 1831 to free African-Americans in Virgina that results in a violent retaliation from whites.', 9.452808, 15861566.0, 120.0, 'Released', 'The Untold Story of Nat Turner', 6.5, 178),\n",
       " (385736, 'Kicks', '2016-09-09 00:00:00.000000', 0, 'http://www.focusfeatures.com/kicks', 'en', 'Kicks', 'When his hard-earned kicks get snatched by a local hood, fifteen-year old Brandon and his two best friends go on an ill-advised mission across the Bay Area to retrieve the stolen sneakers.', 3.467923, 0.0, 80.0, 'Released', \"They aren't just shoes\", 7.5, 18),\n",
       " (332285, 'Antibirth', '2016-09-02 00:00:00.000000', 35000000, None, 'en', 'Antibirth', 'In a desolate community full of drug-addled Marines and rumors of kidnapping, a wild-eyed stoner named Lou wakes up after a crazy night of partying with symptoms of a strange illness and recurring visions. As she struggles to get a grip on reality, the stories of conspiracy spread.', 3.674294, 0.0, 94.0, 'Released', None, 4.8, 40),\n",
       " (184341, 'Hands of Stone', '2016-08-26 00:00:00.000000', 20000000, None, 'en', 'Hands of Stone', \"The legendary Roberto Duran and his equally legendary trainer Ray Arcel change each other's lives.\", 7.444189, 0.0, 105.0, 'Released', 'No mßs. No surrender.', 6.1, 109),\n",
       " (271969, 'Ben-Hur', '2016-08-17 00:00:00.000000', 100000000, 'http://www.benhurmovie.com/', 'en', 'Ben-Hur', 'A falsely accused nobleman survives years of slavery to take vengeance on his best friend who betrayed him.', 29.608322, 94061311.0, 125.0, 'Released', 'First to finish. Last to die.', 5.3, 621),\n",
       " (294272, \"Pete's Dragon\", '2016-08-10 00:00:00.000000', 65000000, 'http://movies.disney.com/petes-dragon-2016', 'en', \"Pete's Dragon\", 'Pete is a mysterious 10-year-old with no family and no home who claims to live in the woods with a giant, green dragon named Elliott. With the help o ... (42 characters truncated) ... r Jack owns the local lumber mill, forest ranger Grace sets out to determine where Pete came from, where he belongs, and the truth about this dragon.', 31.974359, 143695338.0, 102.0, 'Released', 'Some secrets are too big to keep.', 6.2, 679),\n",
       " (297761, 'Suicide Squad', '2016-08-02 00:00:00.000000', 175000000, 'http://www.suicidesquad.com/', 'en', 'Suicide Squad', 'From DC Comics comes the Suicide Squad, an antihero team of incarcerated supervillains who act as deniable assets for the United States government, undertaking high-risk black ops missions in exchange for commuted prison sentences.', 90.23792, 745000000.0, 123.0, 'Released', 'Worst Heroes Ever', 5.9, 7458)]"
      ]
     },
     "execution_count": 47,
     "metadata": {},
     "output_type": "execute_result"
    }
   ],
   "source": [
    "%%sql\n",
    "SELECT *\n",
    "FROM movies\n",
    "WHERE release_date IS NOT NULL\n",
    "ORDER BY release_date DESC\n",
    "LIMIT 10;\n",
    "#answer SELECT * FROM movies WHERE release_date IS NOT NULL ORDER BY release_date DESC LIMIT 10"
   ]
  },
  {
   "cell_type": "markdown",
   "id": "79dc3d5f",
   "metadata": {},
   "source": [
    "### Question 3\n",
    "\n",
    "How many unique awards are there in the Oscars table?\n",
    "\n",
    "**Options:**\n",
    " - 141\n",
    " - 53 \n",
    " - 80\n",
    " - 114"
   ]
  },
  {
   "cell_type": "code",
   "execution_count": 50,
   "id": "f4621a53",
   "metadata": {},
   "outputs": [
    {
     "name": "stdout",
     "output_type": "stream",
     "text": [
      " * sqlite:///TMDB-a-4006.db\n",
      "Done.\n"
     ]
    },
    {
     "data": {
      "text/html": [
       "<table>\n",
       "    <thead>\n",
       "        <tr>\n",
       "            <th>COUNT(DISTINCT award)</th>\n",
       "        </tr>\n",
       "    </thead>\n",
       "    <tbody>\n",
       "        <tr>\n",
       "            <td>114</td>\n",
       "        </tr>\n",
       "    </tbody>\n",
       "</table>"
      ],
      "text/plain": [
       "[(114,)]"
      ]
     },
     "execution_count": 50,
     "metadata": {},
     "output_type": "execute_result"
    }
   ],
   "source": [
    "%%sql\n",
    "SELECT COUNT(DISTINCT award)\n",
    "FROM oscars;\n",
    "#answer 114"
   ]
  },
  {
   "cell_type": "markdown",
   "id": "a8b06373",
   "metadata": {},
   "source": [
    "### Question 4\n",
    "\n",
    "How many movies are there that contain the word “Spider” within their title?\n",
    "\n",
    "**Options:**\n",
    " - 0\n",
    " - 5\n",
    " - 1\n",
    " - 9"
   ]
  },
  {
   "cell_type": "code",
   "execution_count": 53,
   "id": "1e003247",
   "metadata": {},
   "outputs": [
    {
     "name": "stdout",
     "output_type": "stream",
     "text": [
      " * sqlite:///TMDB-a-4006.db\n",
      "Done.\n"
     ]
    },
    {
     "data": {
      "text/html": [
       "<table>\n",
       "    <thead>\n",
       "        <tr>\n",
       "            <th>COUNT(title)</th>\n",
       "        </tr>\n",
       "    </thead>\n",
       "    <tbody>\n",
       "        <tr>\n",
       "            <td>9</td>\n",
       "        </tr>\n",
       "    </tbody>\n",
       "</table>"
      ],
      "text/plain": [
       "[(9,)]"
      ]
     },
     "execution_count": 53,
     "metadata": {},
     "output_type": "execute_result"
    }
   ],
   "source": [
    "%%sql\n",
    "SELECT COUNT(title)\n",
    "FROM MOVIES\n",
    "WHERE title LIKE '%Spider%'\n",
    "#answer is 9\n"
   ]
  },
  {
   "cell_type": "markdown",
   "id": "2f77c5bd",
   "metadata": {},
   "source": [
    "### Question 5\n",
    "\n",
    "How many movies are there that are both in the \"Thriller\" genre and contain the word “love” anywhere in the keywords?\n",
    "\n",
    "\n",
    "**Options:**\n",
    " - 48\n",
    " - 38\n",
    " - 14\n",
    " - 1"
   ]
  },
  {
   "cell_type": "code",
   "execution_count": 68,
   "id": "abc5146c",
   "metadata": {},
   "outputs": [
    {
     "name": "stdout",
     "output_type": "stream",
     "text": [
      " * sqlite:///TMDB-a-4006.db\n",
      "Done.\n"
     ]
    },
    {
     "data": {
      "text/html": [
       "<table>\n",
       "    <thead>\n",
       "        <tr>\n",
       "            <th>COUNT(DISTINCT T.movie_id)</th>\n",
       "        </tr>\n",
       "    </thead>\n",
       "    <tbody>\n",
       "        <tr>\n",
       "            <td>48</td>\n",
       "        </tr>\n",
       "    </tbody>\n",
       "</table>"
      ],
      "text/plain": [
       "[(48,)]"
      ]
     },
     "execution_count": 68,
     "metadata": {},
     "output_type": "execute_result"
    }
   ],
   "source": [
    "%%sql\n",
    "WITH thriller AS (\n",
    "    SELECT \n",
    "        Keywords.Keyword_id,\n",
    "        Keywords.Keyword_name,\n",
    "        Genres.Genre_id,\n",
    "        Genres.Genre_name,\n",
    "        Genremap.Movie_id,\n",
    "        Movies.Title\n",
    "    FROM \n",
    "        Keywords\n",
    "        JOIN Keywordmap ON Keywords.Keyword_id = keywordmap.keyword_id\n",
    "        JOIN movies ON keywordmap.movie_id = movies.movie_id\n",
    "        JOIN genremap ON movies.movie_id = genremap.movie_id\n",
    "        JOIN genres ON genres.genre_id = genremap.genre_id)\n",
    "SELECT\n",
    "COUNT(DISTINCT T.movie_id)\n",
    "FROM thriller as T\n",
    "WHERE keyword_name LIKE '%love%' and Genre_name = 'Thriller';\n",
    "\n",
    "#answer is 48"
   ]
  },
  {
   "cell_type": "markdown",
   "id": "8c6e82eb",
   "metadata": {},
   "source": [
    "### Question 6\n",
    "\n",
    "How many movies are there that were released between 1 August 2006 ('2006-08-01') and 1 October 2009 ('2009-10-01') that have a popularity score of more than 40 and a budget of less than 50 000 000?\n",
    "\n",
    " \n",
    "**Options:**\n",
    "\n",
    " - 29\n",
    " - 23\n",
    " - 28\n",
    " - 35"
   ]
  },
  {
   "cell_type": "code",
   "execution_count": 70,
   "id": "e8de6542",
   "metadata": {},
   "outputs": [
    {
     "name": "stdout",
     "output_type": "stream",
     "text": [
      " * sqlite:///TMDB-a-4006.db\n",
      "Done.\n"
     ]
    },
    {
     "data": {
      "text/html": [
       "<table>\n",
       "    <thead>\n",
       "        <tr>\n",
       "            <th>COUNT(*)</th>\n",
       "        </tr>\n",
       "    </thead>\n",
       "    <tbody>\n",
       "        <tr>\n",
       "            <td>29</td>\n",
       "        </tr>\n",
       "    </tbody>\n",
       "</table>"
      ],
      "text/plain": [
       "[(29,)]"
      ]
     },
     "execution_count": 70,
     "metadata": {},
     "output_type": "execute_result"
    }
   ],
   "source": [
    "%%sql\n",
    "SELECT COUNT(*)\n",
    "FROM movies\n",
    "where release_date >= '2006-08-01'\n",
    "     and release_date <= '2009-10-01'\n",
    "    and popularity > 40\n",
    "    and budget < 50000000\n",
    "#answer 29"
   ]
  },
  {
   "cell_type": "markdown",
   "id": "cf0d12b1",
   "metadata": {},
   "source": [
    "### Question 7\n",
    "\n",
    "How many unique characters has \"Vin Diesel\" played so far in the database?\n",
    "\n",
    "**Options:**\n",
    " - 24\n",
    " - 19\n",
    " - 18\n",
    " - 16"
   ]
  },
  {
   "cell_type": "code",
   "execution_count": 73,
   "id": "cc1eecb5",
   "metadata": {},
   "outputs": [
    {
     "name": "stdout",
     "output_type": "stream",
     "text": [
      " * sqlite:///TMDB-a-4006.db\n",
      "Done.\n"
     ]
    },
    {
     "data": {
      "text/html": [
       "<table>\n",
       "    <thead>\n",
       "        <tr>\n",
       "            <th>COUNT(DISTINCT characters)</th>\n",
       "        </tr>\n",
       "    </thead>\n",
       "    <tbody>\n",
       "        <tr>\n",
       "            <td>16</td>\n",
       "        </tr>\n",
       "    </tbody>\n",
       "</table>"
      ],
      "text/plain": [
       "[(16,)]"
      ]
     },
     "execution_count": 73,
     "metadata": {},
     "output_type": "execute_result"
    }
   ],
   "source": [
    "%%sql\n",
    "SELECT COUNT(DISTINCT characters)\n",
    "FROM\n",
    "    actors a\n",
    "JOIN \n",
    "    casts c\n",
    "    ON a.actor_id = c.actor_id\n",
    "WHERE \n",
    "    actor_name LIKE '%Vin Diesel%';\n",
    "\n",
    "#answer 16"
   ]
  },
  {
   "cell_type": "markdown",
   "id": "297fc8b8",
   "metadata": {},
   "source": [
    "### Question 8\n",
    "\n",
    "What are the genres of the movie “The Royal Tenenbaums”?\n",
    "\n",
    "\n",
    "**Options:**\n",
    " - Action, Romance\n",
    " - Drama, Comedy\n",
    " - Crime, Thriller\n",
    " - Drama, Romance"
   ]
  },
  {
   "cell_type": "code",
   "execution_count": 77,
   "id": "e2ad1e00",
   "metadata": {},
   "outputs": [
    {
     "name": "stdout",
     "output_type": "stream",
     "text": [
      " * sqlite:///TMDB-a-4006.db\n",
      "Done.\n"
     ]
    },
    {
     "data": {
      "text/html": [
       "<table>\n",
       "    <thead>\n",
       "        <tr>\n",
       "            <th>genre_name</th>\n",
       "        </tr>\n",
       "    </thead>\n",
       "    <tbody>\n",
       "        <tr>\n",
       "            <td>Drama</td>\n",
       "        </tr>\n",
       "        <tr>\n",
       "            <td>Comedy</td>\n",
       "        </tr>\n",
       "    </tbody>\n",
       "</table>"
      ],
      "text/plain": [
       "[('Drama',), ('Comedy',)]"
      ]
     },
     "execution_count": 77,
     "metadata": {},
     "output_type": "execute_result"
    }
   ],
   "source": [
    "%%sql\n",
    "SELECT genre_name\n",
    "FROM movies\n",
    "JOIN genremap ON movies.movie_id = genremap.movie_id\n",
    "JOIN genres ON genremap.genre_id = genres.genre_id\n",
    "WHERE title = 'The Royal Tenenbaums';\n",
    "#answer is Drama, Romance\n"
   ]
  },
  {
   "cell_type": "markdown",
   "id": "d3ed71a0",
   "metadata": {},
   "source": [
    " Question 9\n",
    "\n",
    "What are the three production companies that have the highest movie popularity score on average, as recorded within the database?\n",
    "\n",
    "\n",
    "**Options:**\n",
    "\n",
    " - MCL Films S.A., Turner Pictures, and George Stevens Productions\n",
    " - The Donners' Company, Bulletproof Cupid, and Kinberg Genre\n",
    " - Bulletproof Cupid, The Donners' Company, and MCL Films S.A\n",
    " - B.Sting Entertainment, Illumination Pictures, and Aztec Musique"
   ]
  },
  {
   "cell_type": "code",
   "execution_count": 81,
   "id": "92d65440",
   "metadata": {},
   "outputs": [
    {
     "name": "stdout",
     "output_type": "stream",
     "text": [
      " * sqlite:///TMDB-a-4006.db\n",
      "Done.\n"
     ]
    },
    {
     "data": {
      "text/html": [
       "<table>\n",
       "    <thead>\n",
       "        <tr>\n",
       "            <th>production_company_name</th>\n",
       "            <th>avg_popularity</th>\n",
       "        </tr>\n",
       "    </thead>\n",
       "    <tbody>\n",
       "        <tr>\n",
       "            <td>The Donners&#x27; Company</td>\n",
       "            <td>514.569956</td>\n",
       "        </tr>\n",
       "        <tr>\n",
       "            <td>Bulletproof Cupid</td>\n",
       "            <td>481.098624</td>\n",
       "        </tr>\n",
       "        <tr>\n",
       "            <td>Kinberg Genre</td>\n",
       "            <td>326.92099900000005</td>\n",
       "        </tr>\n",
       "    </tbody>\n",
       "</table>"
      ],
      "text/plain": [
       "[(\"The Donners' Company\", 514.569956),\n",
       " ('Bulletproof Cupid', 481.098624),\n",
       " ('Kinberg Genre', 326.92099900000005)]"
      ]
     },
     "execution_count": 81,
     "metadata": {},
     "output_type": "execute_result"
    }
   ],
   "source": [
    "%%sql\n",
    "SELECT pc.production_company_name,\n",
    "AVG(m.popularity) AS avg_popularity\n",
    "FROM\n",
    "productioncompanies pc\n",
    "JOIN productioncompanymap pcm ON pc.production_company_id = pcm.production_company_id\n",
    "JOIN movies m ON pcm.movie_id = m.movie_id\n",
    "GROUP BY pc.production_company_name\n",
    "ORDER BY\n",
    "avg_popularity DESC\n",
    "LIMIT 3;\n",
    "#The Donners' Company, Bulletproof Cupid, and Kinberg Genre\n",
    "\n"
   ]
  },
  {
   "cell_type": "markdown",
   "id": "d892dcac",
   "metadata": {},
   "source": [
    "### Question 10\n",
    "\n",
    "How many female actors (i.e. gender = 1) have a name that starts with the letter \"N\"?\n",
    "\n",
    "\n",
    "**Options:**\n",
    "\n",
    " - 0\n",
    " - 355\n",
    " - 7335\n",
    " - 1949"
   ]
  },
  {
   "cell_type": "code",
   "execution_count": 82,
   "id": "4bca2942",
   "metadata": {},
   "outputs": [
    {
     "name": "stdout",
     "output_type": "stream",
     "text": [
      " * sqlite:///TMDB-a-4006.db\n",
      "Done.\n"
     ]
    },
    {
     "data": {
      "text/html": [
       "<table>\n",
       "    <thead>\n",
       "        <tr>\n",
       "            <th>female_actors_count</th>\n",
       "        </tr>\n",
       "    </thead>\n",
       "    <tbody>\n",
       "        <tr>\n",
       "            <td>355</td>\n",
       "        </tr>\n",
       "    </tbody>\n",
       "</table>"
      ],
      "text/plain": [
       "[(355,)]"
      ]
     },
     "execution_count": 82,
     "metadata": {},
     "output_type": "execute_result"
    }
   ],
   "source": [
    "%%sql\n",
    "SELECT COUNT(*) AS female_actors_count\n",
    "FROM actors\n",
    "WHERE gender = 1\n",
    "AND actor_name LIKE 'N%';\n",
    "#answer 355"
   ]
  },
  {
   "cell_type": "markdown",
   "id": "7ea65b50",
   "metadata": {},
   "source": [
    "### Question 11\n",
    "\n",
    "Which genre has, on average, the lowest movie popularity score? \n",
    "\n",
    "\n",
    "**Options:**\n",
    "\n",
    " - Science Fiction\n",
    " - Animation\n",
    " - Documentary\n",
    " - Foreign"
   ]
  },
  {
   "cell_type": "code",
   "execution_count": 83,
   "id": "e3a55c56",
   "metadata": {
    "scrolled": true
   },
   "outputs": [
    {
     "name": "stdout",
     "output_type": "stream",
     "text": [
      " * sqlite:///TMDB-a-4006.db\n",
      "Done.\n"
     ]
    },
    {
     "data": {
      "text/html": [
       "<table>\n",
       "    <thead>\n",
       "        <tr>\n",
       "            <th>genre_name</th>\n",
       "            <th>avg_popularity</th>\n",
       "        </tr>\n",
       "    </thead>\n",
       "    <tbody>\n",
       "        <tr>\n",
       "            <td>Foreign</td>\n",
       "            <td>0.686786794117647</td>\n",
       "        </tr>\n",
       "    </tbody>\n",
       "</table>"
      ],
      "text/plain": [
       "[('Foreign', 0.686786794117647)]"
      ]
     },
     "execution_count": 83,
     "metadata": {},
     "output_type": "execute_result"
    }
   ],
   "source": [
    "%%sql\n",
    "SELECT\n",
    "    genre_name,\n",
    "    AVG(popularity) AS avg_popularity\n",
    "FROM\n",
    "    genres\n",
    "JOIN\n",
    "    genremap ON genres.genre_id = genremap.genre_id\n",
    "JOIN\n",
    "    movies ON genremap.movie_id = movies.movie_id\n",
    "GROUP BY\n",
    "    genre_name\n",
    "ORDER BY\n",
    "    avg_popularity ASC\n",
    "LIMIT 1;\n",
    "#foreign"
   ]
  },
  {
   "cell_type": "markdown",
   "id": "3769de93",
   "metadata": {},
   "source": [
    "### Question 12\n",
    "\n",
    "Which award category has the highest number of actor nominations (actors can be male or female)? (Hint: `Oscars.name` contains both actors' names and film names.)\n",
    "\n",
    "**Options:**\n",
    "\n",
    "- Special Achievement Award\n",
    "- Actor in a Supporting Role\n",
    "- Actress in a Supporting Role\n",
    "- Best Picture\n",
    "\n"
   ]
  },
  {
   "cell_type": "code",
   "execution_count": 103,
   "id": "e3943f72",
   "metadata": {},
   "outputs": [
    {
     "name": "stdout",
     "output_type": "stream",
     "text": [
      " * sqlite:///TMDB-a-4006.db\n",
      "Done.\n"
     ]
    },
    {
     "data": {
      "text/html": [
       "<table>\n",
       "    <thead>\n",
       "        <tr>\n",
       "            <th>nomination_count</th>\n",
       "            <th>award</th>\n",
       "        </tr>\n",
       "    </thead>\n",
       "    <tbody>\n",
       "        <tr>\n",
       "            <td>14</td>\n",
       "            <td>Special Award</td>\n",
       "        </tr>\n",
       "        <tr>\n",
       "            <td>2</td>\n",
       "            <td>Special Achievement Award</td>\n",
       "        </tr>\n",
       "        <tr>\n",
       "            <td>1</td>\n",
       "            <td>John A. Bonner Medal of Commendation</td>\n",
       "        </tr>\n",
       "        <tr>\n",
       "            <td>15</td>\n",
       "            <td>Jean Hersholt Humanitarian Award</td>\n",
       "        </tr>\n",
       "        <tr>\n",
       "            <td>12</td>\n",
       "            <td>Irving G. Thalberg Memorial Award</td>\n",
       "        </tr>\n",
       "        <tr>\n",
       "            <td>35</td>\n",
       "            <td>Honorary Award</td>\n",
       "        </tr>\n",
       "        <tr>\n",
       "            <td>1</td>\n",
       "            <td>Gordon E. Sawyer Award</td>\n",
       "        </tr>\n",
       "        <tr>\n",
       "            <td>2</td>\n",
       "            <td>Directing (Dramatic Picture)</td>\n",
       "        </tr>\n",
       "        <tr>\n",
       "            <td>4</td>\n",
       "            <td>Directing</td>\n",
       "        </tr>\n",
       "        <tr>\n",
       "            <td>1</td>\n",
       "            <td>Cinematography</td>\n",
       "        </tr>\n",
       "        <tr>\n",
       "            <td>331</td>\n",
       "            <td>Actress in a Supporting Role</td>\n",
       "        </tr>\n",
       "        <tr>\n",
       "            <td>198</td>\n",
       "            <td>Actress in a Leading Role</td>\n",
       "        </tr>\n",
       "        <tr>\n",
       "            <td>145</td>\n",
       "            <td>Actress</td>\n",
       "        </tr>\n",
       "        <tr>\n",
       "            <td>356</td>\n",
       "            <td>Actor in a Supporting Role</td>\n",
       "        </tr>\n",
       "        <tr>\n",
       "            <td>197</td>\n",
       "            <td>Actor in a Leading Role</td>\n",
       "        </tr>\n",
       "        <tr>\n",
       "            <td>184</td>\n",
       "            <td>Actor</td>\n",
       "        </tr>\n",
       "    </tbody>\n",
       "</table>"
      ],
      "text/plain": [
       "[(14, 'Special Award'),\n",
       " (2, 'Special Achievement Award'),\n",
       " (1, 'John A. Bonner Medal of Commendation'),\n",
       " (15, 'Jean Hersholt Humanitarian Award'),\n",
       " (12, 'Irving G. Thalberg Memorial Award'),\n",
       " (35, 'Honorary Award'),\n",
       " (1, 'Gordon E. Sawyer Award'),\n",
       " (2, 'Directing (Dramatic Picture)'),\n",
       " (4, 'Directing'),\n",
       " (1, 'Cinematography'),\n",
       " (331, 'Actress in a Supporting Role'),\n",
       " (198, 'Actress in a Leading Role'),\n",
       " (145, 'Actress'),\n",
       " (356, 'Actor in a Supporting Role'),\n",
       " (197, 'Actor in a Leading Role'),\n",
       " (184, 'Actor')]"
      ]
     },
     "execution_count": 103,
     "metadata": {},
     "output_type": "execute_result"
    }
   ],
   "source": [
    "%%sql\n",
    "SELECT COUNT(award) AS nomination_count, award\n",
    "FROM oscars\n",
    "JOIN actors ON actors.actor_name = oscars.name\n",
    "GROUP BY award\n",
    "ORDER BY award DESC;\n",
    "#actor in supporting role\n"
   ]
  },
  {
   "cell_type": "markdown",
   "id": "c80a7c0c",
   "metadata": {},
   "source": [
    "### Question 13\n",
    "\n",
    "For all of the entries in the Oscars table before 1934, the year is stored differently than in all the subsequent years. For example, the year would be saved as “1932/1933” instead of just “1933” (the second indicated year).  Which of the following options would be the appropriate code to update this column to have the format of the year be consistent throughout the entire table (second indicated year only shown)?\n",
    "\n",
    "\n",
    "**Options:**\n",
    "\n",
    "- `UPDATE Oscars SET year = RIGHT(year, -4)`\n",
    "- `UPDATE Oscars SET year = SELECT substr(year, -4)`\n",
    "- `UPDATE Oscars SET year = substr(year, -4)`\n",
    "- `UPDATE Oscars year =  substr(year, 4)`"
   ]
  },
  {
   "cell_type": "code",
   "execution_count": 91,
   "id": "6220bb09",
   "metadata": {},
   "outputs": [
    {
     "name": "stdout",
     "output_type": "stream",
     "text": [
      " * sqlite:///TMDB-a-4006.db\n",
      "9964 rows affected.\n"
     ]
    },
    {
     "data": {
      "text/plain": [
       "[]"
      ]
     },
     "execution_count": 91,
     "metadata": {},
     "output_type": "execute_result"
    }
   ],
   "source": [
    "%%sql\n",
    "UPDATE Oscars SET year = SUBSTR(year, -4);\n"
   ]
  },
  {
   "cell_type": "markdown",
   "id": "a7d73885",
   "metadata": {},
   "source": [
    "### Question 14\n",
    "\n",
    "DStv will be having a special week dedicated to the actor Alan Rickman. Which of the following queries would create a new _view_ that shows the titles, release dates, taglines, and overviews of all movies that Alan Rickman has played in?\n",
    "\n",
    "\n",
    "\n",
    "**Options:**\n",
    "\n",
    "- SELECT title, release_date, tagline, overview \n",
    "FROM Movies LEFT JOIN Casts ON Casts.movie_id = Movies.movie_id Left JOIN Actors ON Casts.actor_id = Actors.actor_id \n",
    "WHERE Actors.actor_name = 'Alan Rickman'\n",
    "AS VIEW Alan_Rickman_Movies\n",
    "\n",
    "- CREATE VIEW Alan_Rickman_Movies AS  \n",
    "SELECT title, release_date, tagline, overview FROM Movies  \n",
    "LEFT JOIN Casts ON Casts.movie_id = Movies.movie_id Left JOIN Actors\n",
    "ON Casts.actor_id = Actors.actor_id\n",
    "WHERE Actors.actor_name = 'Alan Rickman' \n",
    "\n",
    "\n",
    "- CREATE NEW VIEW  Name  = Alan_Rickman_Movies AS SELECT title, release_date, tagline, overview FROM Movies LEFT JOIN Casts ON Casts.movie_id = Movies.movie_id Left JOIN Actors ON Casts.actor_id = Actors.actor_id WHERE Actors.actor_name = 'Alan Rickman'\n",
    "\n",
    "- VIEW Alan_Rickman_Movies AS SELECT title, release_date, tagline, overview FROM Movies LEFT JOIN Casts ON Casts.movie_id = Movies.movie_id Left JOIN Actors ON Casts.actor_id = Actors.actor_id WHERE Actors.actor_name = 'Alan Rickman'"
   ]
  },
  {
   "cell_type": "code",
   "execution_count": null,
   "id": "f9b82bc6",
   "metadata": {},
   "outputs": [],
   "source": [
    "\n",
    "CREATE VIEW Alan_Rickman_Movies AS\n",
    "SELECT title, release_date, tagline, overview FROM Movies\n",
    "LEFT JOIN Casts ON Casts.movie_id = Movies.movie_id Left JOIN Actors ON Casts.actor_id = Actors.actor_id WHERE Actors.actor_name = 'Alan Rickman'"
   ]
  },
  {
   "cell_type": "markdown",
   "id": "42e9915e",
   "metadata": {},
   "source": [
    "### Question 15\n",
    "\n",
    "Which of the statements about database normalisation are true?\n",
    "\n",
    "**Statements:**\n",
    " \n",
    "i) Database normalisation improves data redundancy, saves on storage space, and fulfils the requirement of records to be uniquely identified.\n",
    "\n",
    "ii) Database normalisation supports up to the Third Normal Form and removes all data anomalies.\n",
    "\n",
    "iii) Database normalisation removes inconsistencies that may cause the analysis of our data to be more complicated.\n",
    "\n",
    "iv) Database normalisation increases data redundancy, saves on storage space, and fulfils the requirement of records to be uniquely identified.\n",
    "\n",
    "**Options:**\n",
    "\n",
    " - (i) and (ii)\n",
    " - (i) and (iii)\n",
    " - (ii) and (iv)\n",
    " - (iii) and (iv)"
   ]
  },
  {
   "cell_type": "code",
   "execution_count": null,
   "id": "b3ce13d9",
   "metadata": {},
   "outputs": [],
   "source": [
    "(i) and (iii)"
   ]
  },
  {
   "cell_type": "markdown",
   "id": "26fd094b-0fee-46f1-a4b8-73766813c42b",
   "metadata": {
    "tags": []
   },
   "source": [
    "#  \n",
    "\n",
    "<div align=\"center\" style=\" font-size: 80%; text-align: center; margin: 0 auto\">\n",
    "<img src=\"https://raw.githubusercontent.com/Explore-AI/Pictures/master/ExploreAI_logos/EAI_Blue_Dark.png\"  style=\"width:200px\";/>\n",
    "</div>"
   ]
  },
  {
   "cell_type": "code",
   "execution_count": null,
   "id": "6613f39d",
   "metadata": {},
   "outputs": [],
   "source": []
  }
 ],
 "metadata": {
  "kernelspec": {
   "display_name": "Python 3 (ipykernel)",
   "language": "python",
   "name": "python3"
  },
  "language_info": {
   "codemirror_mode": {
    "name": "ipython",
    "version": 3
   },
   "file_extension": ".py",
   "mimetype": "text/x-python",
   "name": "python",
   "nbconvert_exporter": "python",
   "pygments_lexer": "ipython3",
   "version": "3.9.13"
  }
 },
 "nbformat": 4,
 "nbformat_minor": 5
}
